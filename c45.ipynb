{
 "cells": [
  {
   "cell_type": "code",
   "execution_count": 1,
   "id": "3c7377aa",
   "metadata": {},
   "outputs": [],
   "source": [
    "from sklearn import tree\n",
    "import numpy as np\n",
    "import pandas as pd"
   ]
  },
  {
   "cell_type": "code",
   "execution_count": 2,
   "id": "3fc98ac9",
   "metadata": {},
   "outputs": [],
   "source": [
    "datasets = pd.read_csv(\"Employee Salaries Datatset.csv\")"
   ]
  },
  {
   "cell_type": "code",
   "execution_count": 3,
   "id": "cfd39dd7",
   "metadata": {},
   "outputs": [
    {
     "data": {
      "text/html": [
       "<div>\n",
       "<style scoped>\n",
       "    .dataframe tbody tr th:only-of-type {\n",
       "        vertical-align: middle;\n",
       "    }\n",
       "\n",
       "    .dataframe tbody tr th {\n",
       "        vertical-align: top;\n",
       "    }\n",
       "\n",
       "    .dataframe thead th {\n",
       "        text-align: right;\n",
       "    }\n",
       "</style>\n",
       "<table border=\"1\" class=\"dataframe\">\n",
       "  <thead>\n",
       "    <tr style=\"text-align: right;\">\n",
       "      <th></th>\n",
       "      <th>Salary</th>\n",
       "      <th>Gender</th>\n",
       "      <th>Age</th>\n",
       "      <th>PhD</th>\n",
       "    </tr>\n",
       "  </thead>\n",
       "  <tbody>\n",
       "    <tr>\n",
       "      <th>0</th>\n",
       "      <td>140.0</td>\n",
       "      <td>1</td>\n",
       "      <td>47</td>\n",
       "      <td>1</td>\n",
       "    </tr>\n",
       "    <tr>\n",
       "      <th>1</th>\n",
       "      <td>30.0</td>\n",
       "      <td>0</td>\n",
       "      <td>65</td>\n",
       "      <td>1</td>\n",
       "    </tr>\n",
       "    <tr>\n",
       "      <th>2</th>\n",
       "      <td>35.1</td>\n",
       "      <td>0</td>\n",
       "      <td>56</td>\n",
       "      <td>0</td>\n",
       "    </tr>\n",
       "    <tr>\n",
       "      <th>3</th>\n",
       "      <td>30.0</td>\n",
       "      <td>1</td>\n",
       "      <td>23</td>\n",
       "      <td>0</td>\n",
       "    </tr>\n",
       "    <tr>\n",
       "      <th>4</th>\n",
       "      <td>80.0</td>\n",
       "      <td>0</td>\n",
       "      <td>53</td>\n",
       "      <td>1</td>\n",
       "    </tr>\n",
       "  </tbody>\n",
       "</table>\n",
       "</div>"
      ],
      "text/plain": [
       "   Salary  Gender  Age  PhD\n",
       "0   140.0       1   47    1\n",
       "1    30.0       0   65    1\n",
       "2    35.1       0   56    0\n",
       "3    30.0       1   23    0\n",
       "4    80.0       0   53    1"
      ]
     },
     "execution_count": 3,
     "metadata": {},
     "output_type": "execute_result"
    }
   ],
   "source": [
    "datasets.head()"
   ]
  },
  {
   "cell_type": "code",
   "execution_count": 5,
   "id": "8684331b",
   "metadata": {},
   "outputs": [],
   "source": [
    "# Merubah kelas/kolom dari String ke Unique-Integer\n",
    "# datasets['Outcome'] = pd.factorize(datasets.Outcome)[0]"
   ]
  },
  {
   "cell_type": "code",
   "execution_count": 6,
   "id": "c98041fb",
   "metadata": {},
   "outputs": [
    {
     "data": {
      "text/html": [
       "<div>\n",
       "<style scoped>\n",
       "    .dataframe tbody tr th:only-of-type {\n",
       "        vertical-align: middle;\n",
       "    }\n",
       "\n",
       "    .dataframe tbody tr th {\n",
       "        vertical-align: top;\n",
       "    }\n",
       "\n",
       "    .dataframe thead th {\n",
       "        text-align: right;\n",
       "    }\n",
       "</style>\n",
       "<table border=\"1\" class=\"dataframe\">\n",
       "  <thead>\n",
       "    <tr style=\"text-align: right;\">\n",
       "      <th></th>\n",
       "      <th>Salary</th>\n",
       "      <th>Gender</th>\n",
       "      <th>Age</th>\n",
       "      <th>PhD</th>\n",
       "    </tr>\n",
       "  </thead>\n",
       "  <tbody>\n",
       "    <tr>\n",
       "      <th>95</th>\n",
       "      <td>18.6</td>\n",
       "      <td>1</td>\n",
       "      <td>26</td>\n",
       "      <td>0</td>\n",
       "    </tr>\n",
       "    <tr>\n",
       "      <th>96</th>\n",
       "      <td>152.0</td>\n",
       "      <td>1</td>\n",
       "      <td>56</td>\n",
       "      <td>1</td>\n",
       "    </tr>\n",
       "    <tr>\n",
       "      <th>97</th>\n",
       "      <td>1.8</td>\n",
       "      <td>1</td>\n",
       "      <td>28</td>\n",
       "      <td>0</td>\n",
       "    </tr>\n",
       "    <tr>\n",
       "      <th>98</th>\n",
       "      <td>35.0</td>\n",
       "      <td>0</td>\n",
       "      <td>44</td>\n",
       "      <td>0</td>\n",
       "    </tr>\n",
       "    <tr>\n",
       "      <th>99</th>\n",
       "      <td>4.0</td>\n",
       "      <td>0</td>\n",
       "      <td>24</td>\n",
       "      <td>0</td>\n",
       "    </tr>\n",
       "  </tbody>\n",
       "</table>\n",
       "</div>"
      ],
      "text/plain": [
       "    Salary  Gender  Age  PhD\n",
       "95    18.6       1   26    0\n",
       "96   152.0       1   56    1\n",
       "97     1.8       1   28    0\n",
       "98    35.0       0   44    0\n",
       "99     4.0       0   24    0"
      ]
     },
     "execution_count": 6,
     "metadata": {},
     "output_type": "execute_result"
    }
   ],
   "source": [
    "datasets.tail()"
   ]
  },
  {
   "cell_type": "code",
   "execution_count": null,
   "id": "2e406f14",
   "metadata": {},
   "outputs": [],
   "source": [
    "# # # Menghapus kolom ID\n",
    "# datasets = datasets.drop(labels=\"Pregnancies\", axis=1)"
   ]
  },
  {
   "cell_type": "code",
   "execution_count": 7,
   "id": "c7ae78cc",
   "metadata": {},
   "outputs": [],
   "source": [
    "#Merubah dataframe ke array numpy\n",
    "datasets = datasets.to_numpy() "
   ]
  },
  {
   "cell_type": "code",
   "execution_count": 8,
   "id": "e3415d76",
   "metadata": {},
   "outputs": [
    {
     "name": "stdout",
     "output_type": "stream",
     "text": [
      "[[140.     1.    47.     1.  ]\n",
      " [ 30.     0.    65.     1.  ]\n",
      " [ 35.1    0.    56.     0.  ]\n",
      " [ 30.     1.    23.     0.  ]\n",
      " [ 80.     0.    53.     1.  ]\n",
      " [ 30.     0.    27.     0.  ]\n",
      " [ 60.     1.    53.     0.  ]\n",
      " [ 31.1    0.    30.     0.  ]\n",
      " [125.     1.    44.     1.  ]\n",
      " [ 51.     1.    63.     1.  ]\n",
      " [  3.     1.    22.     0.  ]\n",
      " [ 46.     1.    59.     0.  ]\n",
      " [150.     1.    60.     1.  ]\n",
      " [  3.     1.    28.     0.  ]\n",
      " [130.     1.    65.     0.  ]\n",
      " [ 15.     0.    25.     0.  ]\n",
      " [130.     1.    65.     0.  ]\n",
      " [ 84.     0.    47.     1.  ]\n",
      " [190.     1.    66.     1.  ]\n",
      " [ 74.     1.    45.     1.  ]\n",
      " [ 73.     0.    46.     0.  ]\n",
      " [ 10.     0.    24.     0.  ]\n",
      " [ 50.     0.    60.     0.  ]\n",
      " [  7.     0.    63.     0.  ]\n",
      " [  9.5    0.    27.     0.  ]\n",
      " [ 15.2    1.    66.     1.  ]\n",
      " [ 28.6    1.    36.     1.  ]\n",
      " [ 20.     0.    30.     0.  ]\n",
      " [ 72.     0.    51.     1.  ]\n",
      " [ 81.     1.    65.     1.  ]\n",
      " [100.     0.    45.     1.  ]\n",
      " [ 90.     0.    52.     1.  ]\n",
      " [ 90.     0.    54.     1.  ]\n",
      " [ 35.     1.    30.     0.  ]\n",
      " [ 30.     0.    52.     0.  ]\n",
      " [ 25.     1.    26.     0.  ]\n",
      " [ 52.     0.    49.     0.  ]\n",
      " [  9.     0.    22.     0.  ]\n",
      " [ 63.     1.    34.     1.  ]\n",
      " [ 72.     1.    60.     0.  ]\n",
      " [ 16.     1.    28.     0.  ]\n",
      " [ 92.     0.    58.     1.  ]\n",
      " [106.     1.    77.     1.  ]\n",
      " [  2.5    1.    67.     0.  ]\n",
      " [  9.     0.    27.     0.  ]\n",
      " [ 32.     0.    48.     1.  ]\n",
      " [ 32.     0.    45.     0.  ]\n",
      " [ 55.     1.    49.     1.  ]\n",
      " [ 52.     1.    36.     0.  ]\n",
      " [ 28.     0.    65.     1.  ]\n",
      " [ 20.     0.    32.     0.  ]\n",
      " [ 14.7    0.    49.     0.  ]\n",
      " [ 22.3    1.    67.     0.  ]\n",
      " [ 34.8    0.    22.     0.  ]\n",
      " [ 84.     0.    49.     1.  ]\n",
      " [ 19.     1.    43.     0.  ]\n",
      " [160.     1.    61.     1.  ]\n",
      " [ 65.     0.    43.     1.  ]\n",
      " [ 55.     0.    52.     0.  ]\n",
      " [  4.6    1.    51.     0.  ]\n",
      " [102.     1.    66.     1.  ]\n",
      " [ 20.     1.    29.     0.  ]\n",
      " [ 62.     0.    62.     0.  ]\n",
      " [ 55.     1.    56.     1.  ]\n",
      " [ 45.6    1.    61.     0.  ]\n",
      " [ 40.     0.    56.     0.  ]\n",
      " [ 24.     0.    41.     0.  ]\n",
      " [ 35.     1.    24.     0.  ]\n",
      " [ 48.     0.    60.     0.  ]\n",
      " [ 20.     0.    43.     0.  ]\n",
      " [ 40.7    0.    57.     0.  ]\n",
      " [ 15.     1.    23.     0.  ]\n",
      " [  0.25   0.    53.     0.  ]\n",
      " [152.     1.    71.     1.  ]\n",
      " [ 39.8    0.    20.     0.  ]\n",
      " [ 12.     0.    27.     0.  ]\n",
      " [ 30.     1.    69.     1.  ]\n",
      " [120.     1.    58.     1.  ]\n",
      " [  1.7    1.    37.     0.  ]\n",
      " [ 36.     1.    32.     1.  ]\n",
      " [ 96.     1.    33.     1.  ]\n",
      " [ 38.     0.    32.     1.  ]\n",
      " [ 90.     1.    60.     0.  ]\n",
      " [  9.     1.    71.     0.  ]\n",
      " [ 25.8    0.    30.     0.  ]\n",
      " [ 22.     0.    62.     0.  ]\n",
      " [ 38.8    0.    54.     0.  ]\n",
      " [ 72.     1.    42.     1.  ]\n",
      " [ 89.     1.    62.     0.  ]\n",
      " [ 41.     0.    51.     1.  ]\n",
      " [ 89.     1.    71.     1.  ]\n",
      " [ 25.     0.    29.     0.  ]\n",
      " [ 52.     1.    55.     1.  ]\n",
      " [115.     0.    54.     0.  ]\n",
      " [ 66.     0.    55.     1.  ]\n",
      " [ 18.6    1.    26.     0.  ]\n",
      " [152.     1.    56.     1.  ]\n",
      " [  1.8    1.    28.     0.  ]\n",
      " [ 35.     0.    44.     0.  ]\n",
      " [  4.     0.    24.     0.  ]]\n"
     ]
    }
   ],
   "source": [
    "print(datasets)"
   ]
  },
  {
   "cell_type": "code",
   "execution_count": 9,
   "id": "bce2b056",
   "metadata": {},
   "outputs": [],
   "source": [
    "#Membagi datasets => 400 baris data untuk training dan 100 baris data untuk testing\n",
    "dataTraining = np.concatenate((datasets[0:40, :], datasets[50:89, :]), axis=0)\n",
    "dataTesting = np.concatenate((datasets[40:50, :], datasets[89:99, :]), axis=0)"
   ]
  },
  {
   "cell_type": "code",
   "execution_count": 10,
   "id": "69c4c228",
   "metadata": {},
   "outputs": [
    {
     "name": "stdout",
     "output_type": "stream",
     "text": [
      "[[140.     1.    47.     1.  ]\n",
      " [ 30.     0.    65.     1.  ]\n",
      " [ 35.1    0.    56.     0.  ]\n",
      " [ 30.     1.    23.     0.  ]\n",
      " [ 80.     0.    53.     1.  ]\n",
      " [ 30.     0.    27.     0.  ]\n",
      " [ 60.     1.    53.     0.  ]\n",
      " [ 31.1    0.    30.     0.  ]\n",
      " [125.     1.    44.     1.  ]\n",
      " [ 51.     1.    63.     1.  ]\n",
      " [  3.     1.    22.     0.  ]\n",
      " [ 46.     1.    59.     0.  ]\n",
      " [150.     1.    60.     1.  ]\n",
      " [  3.     1.    28.     0.  ]\n",
      " [130.     1.    65.     0.  ]\n",
      " [ 15.     0.    25.     0.  ]\n",
      " [130.     1.    65.     0.  ]\n",
      " [ 84.     0.    47.     1.  ]\n",
      " [190.     1.    66.     1.  ]\n",
      " [ 74.     1.    45.     1.  ]\n",
      " [ 73.     0.    46.     0.  ]\n",
      " [ 10.     0.    24.     0.  ]\n",
      " [ 50.     0.    60.     0.  ]\n",
      " [  7.     0.    63.     0.  ]\n",
      " [  9.5    0.    27.     0.  ]\n",
      " [ 15.2    1.    66.     1.  ]\n",
      " [ 28.6    1.    36.     1.  ]\n",
      " [ 20.     0.    30.     0.  ]\n",
      " [ 72.     0.    51.     1.  ]\n",
      " [ 81.     1.    65.     1.  ]\n",
      " [100.     0.    45.     1.  ]\n",
      " [ 90.     0.    52.     1.  ]\n",
      " [ 90.     0.    54.     1.  ]\n",
      " [ 35.     1.    30.     0.  ]\n",
      " [ 30.     0.    52.     0.  ]\n",
      " [ 25.     1.    26.     0.  ]\n",
      " [ 52.     0.    49.     0.  ]\n",
      " [  9.     0.    22.     0.  ]\n",
      " [ 63.     1.    34.     1.  ]\n",
      " [ 72.     1.    60.     0.  ]\n",
      " [ 20.     0.    32.     0.  ]\n",
      " [ 14.7    0.    49.     0.  ]\n",
      " [ 22.3    1.    67.     0.  ]\n",
      " [ 34.8    0.    22.     0.  ]\n",
      " [ 84.     0.    49.     1.  ]\n",
      " [ 19.     1.    43.     0.  ]\n",
      " [160.     1.    61.     1.  ]\n",
      " [ 65.     0.    43.     1.  ]\n",
      " [ 55.     0.    52.     0.  ]\n",
      " [  4.6    1.    51.     0.  ]\n",
      " [102.     1.    66.     1.  ]\n",
      " [ 20.     1.    29.     0.  ]\n",
      " [ 62.     0.    62.     0.  ]\n",
      " [ 55.     1.    56.     1.  ]\n",
      " [ 45.6    1.    61.     0.  ]\n",
      " [ 40.     0.    56.     0.  ]\n",
      " [ 24.     0.    41.     0.  ]\n",
      " [ 35.     1.    24.     0.  ]\n",
      " [ 48.     0.    60.     0.  ]\n",
      " [ 20.     0.    43.     0.  ]\n",
      " [ 40.7    0.    57.     0.  ]\n",
      " [ 15.     1.    23.     0.  ]\n",
      " [  0.25   0.    53.     0.  ]\n",
      " [152.     1.    71.     1.  ]\n",
      " [ 39.8    0.    20.     0.  ]\n",
      " [ 12.     0.    27.     0.  ]\n",
      " [ 30.     1.    69.     1.  ]\n",
      " [120.     1.    58.     1.  ]\n",
      " [  1.7    1.    37.     0.  ]\n",
      " [ 36.     1.    32.     1.  ]\n",
      " [ 96.     1.    33.     1.  ]\n",
      " [ 38.     0.    32.     1.  ]\n",
      " [ 90.     1.    60.     0.  ]\n",
      " [  9.     1.    71.     0.  ]\n",
      " [ 25.8    0.    30.     0.  ]\n",
      " [ 22.     0.    62.     0.  ]\n",
      " [ 38.8    0.    54.     0.  ]\n",
      " [ 72.     1.    42.     1.  ]\n",
      " [ 89.     1.    62.     0.  ]]\n"
     ]
    },
    {
     "data": {
      "text/plain": [
       "79"
      ]
     },
     "execution_count": 10,
     "metadata": {},
     "output_type": "execute_result"
    }
   ],
   "source": [
    "print(dataTraining)\n",
    "len(dataTraining)"
   ]
  },
  {
   "cell_type": "code",
   "execution_count": 11,
   "id": "dcfded25",
   "metadata": {},
   "outputs": [
    {
     "name": "stdout",
     "output_type": "stream",
     "text": [
      "[[ 16.    1.   28.    0. ]\n",
      " [ 92.    0.   58.    1. ]\n",
      " [106.    1.   77.    1. ]\n",
      " [  2.5   1.   67.    0. ]\n",
      " [  9.    0.   27.    0. ]\n",
      " [ 32.    0.   48.    1. ]\n",
      " [ 32.    0.   45.    0. ]\n",
      " [ 55.    1.   49.    1. ]\n",
      " [ 52.    1.   36.    0. ]\n",
      " [ 28.    0.   65.    1. ]\n",
      " [ 41.    0.   51.    1. ]\n",
      " [ 89.    1.   71.    1. ]\n",
      " [ 25.    0.   29.    0. ]\n",
      " [ 52.    1.   55.    1. ]\n",
      " [115.    0.   54.    0. ]\n",
      " [ 66.    0.   55.    1. ]\n",
      " [ 18.6   1.   26.    0. ]\n",
      " [152.    1.   56.    1. ]\n",
      " [  1.8   1.   28.    0. ]\n",
      " [ 35.    0.   44.    0. ]]\n"
     ]
    },
    {
     "data": {
      "text/plain": [
       "20"
      ]
     },
     "execution_count": 11,
     "metadata": {},
     "output_type": "execute_result"
    }
   ],
   "source": [
    "print(dataTesting)\n",
    "len(dataTesting)"
   ]
  },
  {
   "cell_type": "code",
   "execution_count": 12,
   "id": "6bd6738a",
   "metadata": {
    "scrolled": true
   },
   "outputs": [
    {
     "name": "stdout",
     "output_type": "stream",
     "text": [
      "[1. 1. 0. 0. 1. 0. 0. 0. 1. 1. 0. 0. 1. 0. 0. 0. 0. 1. 1. 1. 0. 0. 0. 0.\n",
      " 0. 1. 1. 0. 1. 1. 1. 1. 1. 0. 0. 0. 0. 0. 1. 0. 0. 0. 0. 0. 1. 0. 1. 1.\n",
      " 0. 0. 1. 0. 0. 1. 0. 0. 0. 0. 0. 0. 0. 0. 0. 1. 0. 0. 1. 1. 0. 1. 1. 1.\n",
      " 0. 0. 0. 0. 0. 1. 0.]\n"
     ]
    },
    {
     "data": {
      "text/plain": [
       "79"
      ]
     },
     "execution_count": 12,
     "metadata": {},
     "output_type": "execute_result"
    }
   ],
   "source": [
    "#Memecah dataset ke input label\n",
    "inputTraining = dataTraining[:,0:3]\n",
    "inputTesting = dataTesting[:,0:3]\n",
    "labelTraining = dataTraining[:,3]\n",
    "labelTesting = dataTesting[:,3]\n",
    "print(labelTraining)\n",
    "len(labelTraining)"
   ]
  },
  {
   "cell_type": "code",
   "execution_count": 13,
   "id": "8f7ae7d1",
   "metadata": {},
   "outputs": [],
   "source": [
    "#Mendefinisikan decision tree classifier\n",
    "model = tree.DecisionTreeClassifier()"
   ]
  },
  {
   "cell_type": "code",
   "execution_count": 14,
   "id": "86f62003",
   "metadata": {},
   "outputs": [],
   "source": [
    "#Mentraining model\n",
    "model =  model.fit(inputTraining, labelTraining)"
   ]
  },
  {
   "cell_type": "code",
   "execution_count": 15,
   "id": "1b3d8c3b",
   "metadata": {},
   "outputs": [
    {
     "name": "stdout",
     "output_type": "stream",
     "text": [
      "Label Sebenarnya :  [0. 1. 1. 0. 0. 1. 0. 1. 0. 1. 1. 1. 0. 1. 0. 1. 0. 1. 0. 0.]\n",
      "Hasil Prediksi :  [0. 1. 1. 0. 0. 0. 0. 1. 0. 1. 0. 1. 0. 0. 1. 1. 0. 1. 0. 0.]\n"
     ]
    }
   ],
   "source": [
    "#Memprediksi input data testing\n",
    "hasilPrediksi = model.predict(inputTesting)\n",
    "print(\"Label Sebenarnya : \", labelTesting)\n",
    "print(\"Hasil Prediksi : \", hasilPrediksi)"
   ]
  },
  {
   "cell_type": "code",
   "execution_count": 16,
   "id": "5ac3fc58",
   "metadata": {},
   "outputs": [
    {
     "name": "stdout",
     "output_type": "stream",
     "text": [
      "Prediksi Benar :  16  Data\n",
      "Prediksi Salah :  4  Data\n",
      "Akurasi :  80.0 %\n"
     ]
    }
   ],
   "source": [
    "#Menghitung akurasi\n",
    "prediksiBenar = (hasilPrediksi == labelTesting).sum()\n",
    "prediksiSalah = (hasilPrediksi != labelTesting).sum()\n",
    "print(\"Prediksi Benar : \", prediksiBenar, \" Data\")\n",
    "print(\"Prediksi Salah : \", prediksiSalah, \" Data\")\n",
    "print(\"Akurasi : \", prediksiBenar/(prediksiBenar+prediksiSalah) * 100, \"%\")"
   ]
  },
  {
   "cell_type": "code",
   "execution_count": null,
   "id": "9ac237be",
   "metadata": {},
   "outputs": [],
   "source": []
  }
 ],
 "metadata": {
  "kernelspec": {
   "display_name": "Python 3 (ipykernel)",
   "language": "python",
   "name": "python3"
  },
  "language_info": {
   "codemirror_mode": {
    "name": "ipython",
    "version": 3
   },
   "file_extension": ".py",
   "mimetype": "text/x-python",
   "name": "python",
   "nbconvert_exporter": "python",
   "pygments_lexer": "ipython3",
   "version": "3.9.7"
  }
 },
 "nbformat": 4,
 "nbformat_minor": 5
}
